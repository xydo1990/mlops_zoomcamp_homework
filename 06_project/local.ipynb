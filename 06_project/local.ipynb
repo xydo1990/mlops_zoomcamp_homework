{
 "cells": [
  {
   "cell_type": "code",
   "execution_count": 1,
   "metadata": {
    "pycharm": {
     "name": "#%%\n"
    }
   },
   "outputs": [],
   "source": [
    "# no tracking server\n",
    "# local backend and artifact store\n",
    "\n",
    "import mlflow\n",
    "import pandas as pd\n",
    "import os\n",
    "import numpy as np\n",
    "import torch\n",
    "from fastai.vision.all import *\n",
    "import random\n",
    "from torchvision.models import resnet50, ResNet50_Weights"
   ]
  },
  {
   "cell_type": "code",
   "execution_count": 2,
   "metadata": {
    "pycharm": {
     "name": "#%%\n"
    }
   },
   "outputs": [],
   "source": [
    "def seed_everything(seed=0):\n",
    "    \"\"\" ensure reproducability by defining random seed \"\"\"\n",
    "    random.seed(seed)\n",
    "    os.environ['PYTHONHASHSEED'] = str(seed)\n",
    "    np.random.seed(seed)\n",
    "    torch.manual_seed(seed)\n",
    "    torch.cuda.manual_seed(seed)\n",
    "    torch.backends.cudnn.deterministic = True\n",
    "\n",
    "seed_everything()"
   ]
  },
  {
   "cell_type": "code",
   "execution_count": 3,
   "metadata": {
    "pycharm": {
     "name": "#%%\n"
    }
   },
   "outputs": [],
   "source": [
    "os.environ['TORCH_HOME'] = 'models\\\\resnet' #setting the environment variable\n",
    "path = os.path.join(os.getcwd(), 'data')  # path to downloaded dataset"
   ]
  },
  {
   "cell_type": "code",
   "execution_count": 4,
   "metadata": {
    "pycharm": {
     "name": "#%%\n"
    }
   },
   "outputs": [
    {
     "name": "stdout",
     "output_type": "stream",
     "text": [
      "local tracking uri file:///home/xydo/mlops_zoomcamp_homework/06_project/mlruns\n"
     ]
    },
    {
     "data": {
      "text/plain": [
       "[<Experiment: artifact_location='file:///home/xydo/mlops_zoomcamp_homework/06_project/mlruns/0', experiment_id='0', lifecycle_stage='active', name='Default', tags={}>]"
      ]
     },
     "execution_count": 4,
     "metadata": {},
     "output_type": "execute_result"
    }
   ],
   "source": [
    "print(f\"local tracking uri {mlflow.get_tracking_uri()}\")\n",
    "mlflow.list_experiments()"
   ]
  },
  {
   "cell_type": "code",
   "execution_count": 13,
   "metadata": {
    "pycharm": {
     "name": "#%%\n"
    }
   },
   "outputs": [],
   "source": [
    "def preprocess_data(df, metadata):\n",
    "    \"\"\" add label column and change path to fname column\"\"\"\n",
    "    df_lego = pd.merge(df, metadata['minifigure_name'], on='class_id')\n",
    "    df_lego['labels'] = df_lego['minifigure_name'].apply(lambda x: x.lower())\n",
    "    df_lego['fname'] = df_lego['path']\n",
    "    return df_lego"
   ]
  },
  {
   "cell_type": "code",
   "execution_count": 15,
   "metadata": {},
   "outputs": [],
   "source": [
    "def print_auto_logged_info(r):\n",
    "    tags = {k: v for k, v in r.data.tags.items() if not k.startswith(\"mlflow.\")}\n",
    "    artifacts = [f.path for f in MlflowClient().list_artifacts(r.info.run_id, \"model\")]\n",
    "    print(\"run_id: {}\".format(r.info.run_id))\n",
    "    print(\"artifacts: {}\".format(artifacts))\n",
    "    print(\"params: {}\".format(r.data.params))\n",
    "    print(\"metrics: {}\".format(r.data.metrics))\n",
    "    print(\"tags: {}\".format(tags))"
   ]
  },
  {
   "cell_type": "markdown",
   "metadata": {},
   "source": [
    "# first experiment"
   ]
  },
  {
   "cell_type": "code",
   "execution_count": 18,
   "metadata": {
    "pycharm": {
     "is_executing": true,
     "name": "#%%\n"
    }
   },
   "outputs": [
    {
     "name": "stderr",
     "output_type": "stream",
     "text": [
      "/home/xydo/.virtualenvs/mlops_zoomcamp_homework-Pekz4x7C/lib/python3.9/site-packages/torchvision/models/_utils.py:208: UserWarning: The parameter 'pretrained' is deprecated since 0.13 and will be removed in 0.15, please use 'weights' instead.\n",
      "  warnings.warn(\n",
      "/home/xydo/.virtualenvs/mlops_zoomcamp_homework-Pekz4x7C/lib/python3.9/site-packages/torchvision/models/_utils.py:223: UserWarning: Arguments other than a weight enum or `None` for 'weights' are deprecated since 0.13 and will be removed in 0.15. The current behavior is equivalent to passing `weights=ResNet50_Weights.IMAGENET1K_V1`. You can also use `weights=ResNet50_Weights.DEFAULT` to get the most up-to-date weights.\n",
      "  warnings.warn(msg)\n"
     ]
    },
    {
     "data": {
      "text/html": [
       "\n",
       "<style>\n",
       "    /* Turns off some styling */\n",
       "    progress {\n",
       "        /* gets rid of default border in Firefox and Opera. */\n",
       "        border: none;\n",
       "        /* Needs to be in here for Safari polyfill so background images work as expected. */\n",
       "        background-size: auto;\n",
       "    }\n",
       "    progress:not([value]), progress:not([value])::-webkit-progress-bar {\n",
       "        background: repeating-linear-gradient(45deg, #7e7e7e, #7e7e7e 10px, #5c5c5c 10px, #5c5c5c 20px);\n",
       "    }\n",
       "    .progress-bar-interrupted, .progress-bar-interrupted::-webkit-progress-bar {\n",
       "        background: #F44336;\n",
       "    }\n",
       "</style>\n"
      ],
      "text/plain": [
       "<IPython.core.display.HTML object>"
      ]
     },
     "metadata": {},
     "output_type": "display_data"
    },
    {
     "data": {
      "text/html": [
       "<table border=\"1\" class=\"dataframe\">\n",
       "  <thead>\n",
       "    <tr style=\"text-align: left;\">\n",
       "      <th>epoch</th>\n",
       "      <th>train_loss</th>\n",
       "      <th>valid_loss</th>\n",
       "      <th>error_rate</th>\n",
       "      <th>accuracy</th>\n",
       "      <th>time</th>\n",
       "    </tr>\n",
       "  </thead>\n",
       "  <tbody>\n",
       "    <tr>\n",
       "      <td>0</td>\n",
       "      <td>3.726962</td>\n",
       "      <td>2.585535</td>\n",
       "      <td>0.702703</td>\n",
       "      <td>0.297297</td>\n",
       "      <td>04:41</td>\n",
       "    </tr>\n",
       "    <tr>\n",
       "      <td>1</td>\n",
       "      <td>2.019013</td>\n",
       "      <td>1.806373</td>\n",
       "      <td>0.405405</td>\n",
       "      <td>0.594595</td>\n",
       "      <td>04:49</td>\n",
       "    </tr>\n",
       "    <tr>\n",
       "      <td>2</td>\n",
       "      <td>1.134601</td>\n",
       "      <td>1.549646</td>\n",
       "      <td>0.459459</td>\n",
       "      <td>0.540541</td>\n",
       "      <td>05:01</td>\n",
       "    </tr>\n",
       "    <tr>\n",
       "      <td>3</td>\n",
       "      <td>0.732874</td>\n",
       "      <td>0.920175</td>\n",
       "      <td>0.351351</td>\n",
       "      <td>0.648649</td>\n",
       "      <td>05:17</td>\n",
       "    </tr>\n",
       "    <tr>\n",
       "      <td>4</td>\n",
       "      <td>0.573818</td>\n",
       "      <td>1.324280</td>\n",
       "      <td>0.297297</td>\n",
       "      <td>0.702703</td>\n",
       "      <td>04:43</td>\n",
       "    </tr>\n",
       "    <tr>\n",
       "      <td>5</td>\n",
       "      <td>0.632161</td>\n",
       "      <td>0.989384</td>\n",
       "      <td>0.162162</td>\n",
       "      <td>0.837838</td>\n",
       "      <td>04:30</td>\n",
       "    </tr>\n",
       "  </tbody>\n",
       "</table>"
      ],
      "text/plain": [
       "<IPython.core.display.HTML object>"
      ]
     },
     "metadata": {},
     "output_type": "display_data"
    },
    {
     "name": "stdout",
     "output_type": "stream",
     "text": [
      "Better model found at epoch 0 with valid_loss value: 2.5855345726013184.\n"
     ]
    },
    {
     "data": {
      "image/png": "[encoded data removed]",
      "text/plain": [
       "<Figure size 600x400 with 1 Axes>"
      ]
     },
     "metadata": {},
     "output_type": "display_data"
    },
    {
     "name": "stdout",
     "output_type": "stream",
     "text": [
      "Better model found at epoch 1 with valid_loss value: 1.8063730001449585.\n",
      "Better model found at epoch 2 with valid_loss value: 1.5496456623077393.\n",
      "Better model found at epoch 3 with valid_loss value: 0.9201753735542297.\n",
      "Epoch 4: reducing lr to 0.0013060028959062395\n",
      "Epoch 5: reducing lr to 0.0016884635482598974\n",
      "No improvement since epoch 3: early stopping\n"
     ]
    }
   ],
   "source": [
    "mlflow.set_experiment(\"project_resnet50_first\")\n",
    "\n",
    "\n",
    "mlflow.fastai.autolog()\n",
    "    \n",
    "with mlflow.start_run():\n",
    "    df = pd.read_csv(os.path.join(path, 'index.csv'), index_col=1)\n",
    "    lego_metadata = pd.read_csv(os.path.join(path, 'metadata.csv'), index_col=0)\n",
    "    df_lego = preprocess_data(df, lego_metadata)\n",
    "    data = ImageDataLoaders.from_df(df_lego, path, valid_pct=0.10,\n",
    "                                   item_tfms=Resize(412),\n",
    "                                   bs=10, num_workers=0, label_col=\"labels\")\n",
    "    resnet = resnet50(weights=ResNet50_Weights.DEFAULT)\n",
    "    learn = vision_learner(data, resnet50, metrics=[error_rate, accuracy], model_dir = Path(os.path.join(os.getcwd(),\n",
    "                                                                                                   \"models\",\n",
    "                                                                                                      \"resnet\")),\n",
    "                       path =Path(\"\"\n",
    "                                                                                                                    \".\"))\n",
    "    params = {\"lr1\": 1e-3, \"lr2\": 1e-1, \"random_seed\": 0}\n",
    "    mlflow.log_params(params)\n",
    "    learn.fit_one_cycle(100, slice(params[\"lr1\"],params[\"lr2\"]),cbs=[EarlyStoppingCallback(patience=2),\n",
    "                                                                    ShowGraphCallback(),\n",
    "                                                SaveModelCallback(fname='model_best'),ReduceLROnPlateau()])"
   ]
  },
  {
   "cell_type": "code",
   "execution_count": 19,
   "metadata": {
    "pycharm": {
     "name": "#%%\n"
    }
   },
   "outputs": [
    {
     "ename": "SyntaxError",
     "evalue": "invalid syntax (2188668768.py, line 2)",
     "output_type": "error",
     "traceback": [
      "\u001b[0;36m  Input \u001b[0;32mIn [19]\u001b[0;36m\u001b[0m\n\u001b[0;31m    best_model_path = Path.cwd()'/models/resnet/model_best.pth'\u001b[0m\n\u001b[0m                                ^\u001b[0m\n\u001b[0;31mSyntaxError\u001b[0m\u001b[0;31m:\u001b[0m invalid syntax\n"
     ]
    }
   ],
   "source": [
    "# check if best model was stored\n",
    "best_model_path = Path.cwd()'/models/resnet/model_best.pth'\n",
    "assert (best_model_path).exists()"
   ]
  },
  {
   "cell_type": "markdown",
   "metadata": {},
   "source": [
    "# load best model"
   ]
  },
  {
   "cell_type": "code",
   "execution_count": null,
   "metadata": {},
   "outputs": [],
   "source": [
    "learn = vision_learner(data, resnet50, metrics=[error_rate, accuracy], model_dir = Path(os.path.join(os.getcwd(),\n",
    "                                                                                                   \"models\",\n",
    "                                                                                                      \"resnet\")),\n",
    "                       path =Path(\"\"\n",
    "                                                                                                                    \".\"))\n",
    "learn.load(best_model_path)"
   ]
  }
 ],
 "metadata": {
  "kernelspec": {
   "display_name": "Python 3",
   "language": "python",
   "name": "python3"
  },
  "language_info": {
   "codemirror_mode": {
    "name": "ipython",
    "version": 3
   },
   "file_extension": ".py",
   "mimetype": "text/x-python",
   "name": "python",
   "nbconvert_exporter": "python",
   "pygments_lexer": "ipython3",
   "version": "3.9.7"
  }
 },
 "nbformat": 4,
 "nbformat_minor": 1
}
