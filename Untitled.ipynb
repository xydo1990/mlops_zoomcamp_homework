{
 "cells": [
  {
   "cell_type": "code",
   "execution_count": 1,
   "id": "d7d89258",
   "metadata": {},
   "outputs": [],
   "source": [
    "from hashlib import sha1\n",
    "\n",
    "def compute_hash(email):\n",
    "    return sha1(email.encode('utf-8')).hexdigest()\n",
    "\n",
    "def compute_certificate_id(email):\n",
    "    email_clean = email.lower().strip()\n",
    "    return compute_hash(email_clean + '_')"
   ]
  },
  {
   "cell_type": "code",
   "execution_count": 2,
   "id": "10f23c16",
   "metadata": {},
   "outputs": [
    {
     "name": "stdout",
     "output_type": "stream",
     "text": [
      "https://certificate.datatalks.club/mlops-zoomcamp/2022/93cac50e32bc1c03003781d9704df6460bcbe6b0.pdf\n"
     ]
    }
   ],
   "source": [
    "cohort = 2022\n",
    "course = 'mlops-zoomcamp'\n",
    "your_id = compute_certificate_id('jan.kaemmerer@rwth-aachen.de')\n",
    "url = f\"https://certificate.datatalks.club/{course}/{cohort}/{your_id}.pdf\"\n",
    "print(url)"
   ]
  },
  {
   "cell_type": "code",
   "execution_count": 28,
   "id": "d1ac02af",
   "metadata": {},
   "outputs": [
    {
     "name": "stdout",
     "output_type": "stream",
     "text": [
      "   Courses    Fee Duration\n",
      "r1   Spark  25000  50 Days\n"
     ]
    }
   ],
   "source": [
    "\n",
    "# Import pandas\n",
    "import pandas as pd\n",
    "\n",
    "# Read json from String\n",
    "json_str = '{\"Courses\":{\"r1\":\"Spark\"},\"Fee\":{\"r1\":\"25000\"},\"Duration\":{\"r1\":\"50 Days\"}}'\n",
    "#json_str = str({\"index\":0,\"path\":\"test\\/001.jpg\",\"class_id\":32,\"minifigure_name\":\"JANNAH\",\"labels\":\"jannah\",\"fname\":\"test\\/001.jpg\"})\n",
    "df = pd.read_json(json_str)\n",
    "print(df)"
   ]
  },
  {
   "cell_type": "code",
   "execution_count": 31,
   "id": "190c61da",
   "metadata": {},
   "outputs": [
    {
     "data": {
      "text/plain": [
       "['Courses', 'Fee', 'Duration']"
      ]
     },
     "execution_count": 31,
     "metadata": {},
     "output_type": "execute_result"
    }
   ],
   "source": [
    "df.columns.tolist()"
   ]
  },
  {
   "cell_type": "code",
   "execution_count": 32,
   "id": "9611b687",
   "metadata": {},
   "outputs": [],
   "source": [
    "df = df[['Fee', 'Duration', 'Courses']]"
   ]
  },
  {
   "cell_type": "code",
   "execution_count": 33,
   "id": "d71c6dff",
   "metadata": {},
   "outputs": [
    {
     "data": {
      "text/html": [
       "<div>\n",
       "<style scoped>\n",
       "    .dataframe tbody tr th:only-of-type {\n",
       "        vertical-align: middle;\n",
       "    }\n",
       "\n",
       "    .dataframe tbody tr th {\n",
       "        vertical-align: top;\n",
       "    }\n",
       "\n",
       "    .dataframe thead th {\n",
       "        text-align: right;\n",
       "    }\n",
       "</style>\n",
       "<table border=\"1\" class=\"dataframe\">\n",
       "  <thead>\n",
       "    <tr style=\"text-align: right;\">\n",
       "      <th></th>\n",
       "      <th>Fee</th>\n",
       "      <th>Duration</th>\n",
       "      <th>Courses</th>\n",
       "    </tr>\n",
       "  </thead>\n",
       "  <tbody>\n",
       "    <tr>\n",
       "      <th>r1</th>\n",
       "      <td>25000</td>\n",
       "      <td>50 Days</td>\n",
       "      <td>Spark</td>\n",
       "    </tr>\n",
       "  </tbody>\n",
       "</table>\n",
       "</div>"
      ],
      "text/plain": [
       "      Fee Duration Courses\n",
       "r1  25000  50 Days   Spark"
      ]
     },
     "execution_count": 33,
     "metadata": {},
     "output_type": "execute_result"
    }
   ],
   "source": [
    "df.head()"
   ]
  },
  {
   "cell_type": "code",
   "execution_count": 27,
   "id": "227b05bc",
   "metadata": {},
   "outputs": [
    {
     "data": {
      "text/plain": [
       "index                   0\n",
       "class_id               32\n",
       "minifigure_name    JANNAH\n",
       "labels             jannah\n",
       "dtype: object"
      ]
     },
     "execution_count": 27,
     "metadata": {},
     "output_type": "execute_result"
    }
   ],
   "source": [
    "import json\n",
    "json_str = json.dumps({\"index\": 0,\"class_id\":32,\"minifigure_name\":\"JANNAH\",\"labels\":\"jannah\"})\n",
    "json.loads(json_str)\n",
    "pd.read_json(json_str, typ=\"series\")"
   ]
  },
  {
   "cell_type": "code",
   "execution_count": null,
   "id": "dba2d840",
   "metadata": {},
   "outputs": [],
   "source": []
  }
 ],
 "metadata": {
  "kernelspec": {
   "display_name": "Python 3 (ipykernel)",
   "language": "python",
   "name": "python3"
  },
  "language_info": {
   "codemirror_mode": {
    "name": "ipython",
    "version": 3
   },
   "file_extension": ".py",
   "mimetype": "text/x-python",
   "name": "python",
   "nbconvert_exporter": "python",
   "pygments_lexer": "ipython3",
   "version": "3.9.13"
  }
 },
 "nbformat": 4,
 "nbformat_minor": 5
}
