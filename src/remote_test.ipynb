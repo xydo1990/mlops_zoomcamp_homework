{
 "cells": [
  {
   "cell_type": "markdown",
   "id": "5e8fe3ac",
   "metadata": {},
   "source": [
    "# remote setup as in szenario 3"
   ]
  },
  {
   "cell_type": "markdown",
   "id": "8dff9dd2",
   "metadata": {},
   "source": [
    "running code locally, use tracking from remote"
   ]
  },
  {
   "cell_type": "code",
   "execution_count": 1,
   "id": "898a685e",
   "metadata": {},
   "outputs": [],
   "source": [
    "import mlflow\n",
    "import os\n",
    "\n",
    "os.environ[\"AWS_PROFILE\"] = \"default\" # fill in with your AWS profile. More info: https://docs.aws.amazon.com/sdk-for-java/latest/developer-guide/setup.html#setup-credentials"
   ]
  },
  {
   "cell_type": "code",
   "execution_count": 2,
   "id": "43f85870",
   "metadata": {},
   "outputs": [],
   "source": [
    "TRACKING_SERVER_HOST = \"ec2-18-132-211-111.eu-west-2.compute.amazonaws.com\" # fill in with the public DNS of the EC2 instance\n",
    "mlflow.set_tracking_uri(f\"http://{TRACKING_SERVER_HOST}:5000\")"
   ]
  },
  {
   "cell_type": "markdown",
   "id": "516ed6fa",
   "metadata": {},
   "source": [
    "# get data"
   ]
  },
  {
   "cell_type": "code",
   "execution_count": 28,
   "id": "341fdb2f",
   "metadata": {},
   "outputs": [],
   "source": [
    "data_path = os.path.join(os.getcwd(), 'data_tmp')"
   ]
  },
  {
   "cell_type": "code",
   "execution_count": 29,
   "id": "a86f466e",
   "metadata": {},
   "outputs": [
    {
     "ename": "OSError",
     "evalue": "[Errno 12] Cannot allocate memory",
     "output_type": "error",
     "traceback": [
      "\u001b[0;31m---------------------------------------------------------------------------\u001b[0m",
      "\u001b[0;31mOSError\u001b[0m                                   Traceback (most recent call last)",
      "Input \u001b[0;32mIn [29]\u001b[0m, in \u001b[0;36m<cell line: 1>\u001b[0;34m()\u001b[0m\n\u001b[0;32m----> 1\u001b[0m \u001b[43mget_ipython\u001b[49m\u001b[43m(\u001b[49m\u001b[43m)\u001b[49m\u001b[38;5;241;43m.\u001b[39;49m\u001b[43msystem\u001b[49m\u001b[43m(\u001b[49m\u001b[38;5;124;43m'\u001b[39;49m\u001b[38;5;124;43mcurl https://www.kaggle.com/datasets/ihelon/lego-minifigures-classification/download?datasetVersionNumber=30 lego_data.zip\u001b[39;49m\u001b[38;5;124;43m'\u001b[39;49m\u001b[43m)\u001b[49m\n\u001b[1;32m      2\u001b[0m get_ipython()\u001b[38;5;241m.\u001b[39msystem(\u001b[38;5;124m'\u001b[39m\u001b[38;5;124munzip lego_data.zip data_path\u001b[39m\u001b[38;5;124m'\u001b[39m)\n\u001b[1;32m      3\u001b[0m get_ipython()\u001b[38;5;241m.\u001b[39msystem(\u001b[38;5;124m'\u001b[39m\u001b[38;5;124mrm lego_data.zip\u001b[39m\u001b[38;5;124m'\u001b[39m)\n",
      "File \u001b[0;32m~/.virtualenvs/mlops_zoomcamp_homework-Pekz4x7C/lib/python3.9/site-packages/ipykernel/zmqshell.py:633\u001b[0m, in \u001b[0;36mZMQInteractiveShell.system_piped\u001b[0;34m(self, cmd)\u001b[0m\n\u001b[1;32m    631\u001b[0m         \u001b[38;5;28mself\u001b[39m\u001b[38;5;241m.\u001b[39muser_ns[\u001b[38;5;124m\"\u001b[39m\u001b[38;5;124m_exit_code\u001b[39m\u001b[38;5;124m\"\u001b[39m] \u001b[38;5;241m=\u001b[39m system(cmd)\n\u001b[1;32m    632\u001b[0m \u001b[38;5;28;01melse\u001b[39;00m:\n\u001b[0;32m--> 633\u001b[0m     \u001b[38;5;28mself\u001b[39m\u001b[38;5;241m.\u001b[39muser_ns[\u001b[38;5;124m\"\u001b[39m\u001b[38;5;124m_exit_code\u001b[39m\u001b[38;5;124m\"\u001b[39m] \u001b[38;5;241m=\u001b[39m \u001b[43msystem\u001b[49m\u001b[43m(\u001b[49m\u001b[38;5;28;43mself\u001b[39;49m\u001b[38;5;241;43m.\u001b[39;49m\u001b[43mvar_expand\u001b[49m\u001b[43m(\u001b[49m\u001b[43mcmd\u001b[49m\u001b[43m,\u001b[49m\u001b[43m \u001b[49m\u001b[43mdepth\u001b[49m\u001b[38;5;241;43m=\u001b[39;49m\u001b[38;5;241;43m1\u001b[39;49m\u001b[43m)\u001b[49m\u001b[43m)\u001b[49m\n",
      "File \u001b[0;32m~/.virtualenvs/mlops_zoomcamp_homework-Pekz4x7C/lib/python3.9/site-packages/IPython/utils/_process_posix.py:148\u001b[0m, in \u001b[0;36mProcessHandler.system\u001b[0;34m(self, cmd)\u001b[0m\n\u001b[1;32m    146\u001b[0m     child \u001b[38;5;241m=\u001b[39m pexpect\u001b[38;5;241m.\u001b[39mspawnb(\u001b[38;5;28mself\u001b[39m\u001b[38;5;241m.\u001b[39msh, args\u001b[38;5;241m=\u001b[39m[\u001b[38;5;124m'\u001b[39m\u001b[38;5;124m-c\u001b[39m\u001b[38;5;124m'\u001b[39m, cmd]) \u001b[38;5;66;03m# Pexpect-U\u001b[39;00m\n\u001b[1;32m    147\u001b[0m \u001b[38;5;28;01melse\u001b[39;00m:\n\u001b[0;32m--> 148\u001b[0m     child \u001b[38;5;241m=\u001b[39m \u001b[43mpexpect\u001b[49m\u001b[38;5;241;43m.\u001b[39;49m\u001b[43mspawn\u001b[49m\u001b[43m(\u001b[49m\u001b[38;5;28;43mself\u001b[39;49m\u001b[38;5;241;43m.\u001b[39;49m\u001b[43msh\u001b[49m\u001b[43m,\u001b[49m\u001b[43m \u001b[49m\u001b[43margs\u001b[49m\u001b[38;5;241;43m=\u001b[39;49m\u001b[43m[\u001b[49m\u001b[38;5;124;43m'\u001b[39;49m\u001b[38;5;124;43m-c\u001b[39;49m\u001b[38;5;124;43m'\u001b[39;49m\u001b[43m,\u001b[49m\u001b[43m \u001b[49m\u001b[43mcmd\u001b[49m\u001b[43m]\u001b[49m\u001b[43m)\u001b[49m  \u001b[38;5;66;03m# Vanilla Pexpect\u001b[39;00m\n\u001b[1;32m    149\u001b[0m flush \u001b[38;5;241m=\u001b[39m sys\u001b[38;5;241m.\u001b[39mstdout\u001b[38;5;241m.\u001b[39mflush\n\u001b[1;32m    150\u001b[0m \u001b[38;5;28;01mwhile\u001b[39;00m \u001b[38;5;28;01mTrue\u001b[39;00m:\n\u001b[1;32m    151\u001b[0m     \u001b[38;5;66;03m# res is the index of the pattern that caused the match, so we\u001b[39;00m\n\u001b[1;32m    152\u001b[0m     \u001b[38;5;66;03m# know whether we've finished (if we matched EOF) or not\u001b[39;00m\n",
      "File \u001b[0;32m~/.virtualenvs/mlops_zoomcamp_homework-Pekz4x7C/lib/python3.9/site-packages/pexpect/pty_spawn.py:205\u001b[0m, in \u001b[0;36mspawn.__init__\u001b[0;34m(self, command, args, timeout, maxread, searchwindowsize, logfile, cwd, env, ignore_sighup, echo, preexec_fn, encoding, codec_errors, dimensions, use_poll)\u001b[0m\n\u001b[1;32m    203\u001b[0m     \u001b[38;5;28mself\u001b[39m\u001b[38;5;241m.\u001b[39mname \u001b[38;5;241m=\u001b[39m \u001b[38;5;124m'\u001b[39m\u001b[38;5;124m<pexpect factory incomplete>\u001b[39m\u001b[38;5;124m'\u001b[39m\n\u001b[1;32m    204\u001b[0m \u001b[38;5;28;01melse\u001b[39;00m:\n\u001b[0;32m--> 205\u001b[0m     \u001b[38;5;28;43mself\u001b[39;49m\u001b[38;5;241;43m.\u001b[39;49m\u001b[43m_spawn\u001b[49m\u001b[43m(\u001b[49m\u001b[43mcommand\u001b[49m\u001b[43m,\u001b[49m\u001b[43m \u001b[49m\u001b[43margs\u001b[49m\u001b[43m,\u001b[49m\u001b[43m \u001b[49m\u001b[43mpreexec_fn\u001b[49m\u001b[43m,\u001b[49m\u001b[43m \u001b[49m\u001b[43mdimensions\u001b[49m\u001b[43m)\u001b[49m\n\u001b[1;32m    206\u001b[0m \u001b[38;5;28mself\u001b[39m\u001b[38;5;241m.\u001b[39muse_poll \u001b[38;5;241m=\u001b[39m use_poll\n",
      "File \u001b[0;32m~/.virtualenvs/mlops_zoomcamp_homework-Pekz4x7C/lib/python3.9/site-packages/pexpect/pty_spawn.py:303\u001b[0m, in \u001b[0;36mspawn._spawn\u001b[0;34m(self, command, args, preexec_fn, dimensions)\u001b[0m\n\u001b[1;32m    298\u001b[0m \u001b[38;5;28;01mif\u001b[39;00m \u001b[38;5;28mself\u001b[39m\u001b[38;5;241m.\u001b[39mencoding \u001b[38;5;129;01mis\u001b[39;00m \u001b[38;5;129;01mnot\u001b[39;00m \u001b[38;5;28;01mNone\u001b[39;00m:\n\u001b[1;32m    299\u001b[0m     \u001b[38;5;66;03m# Encode command line using the specified encoding\u001b[39;00m\n\u001b[1;32m    300\u001b[0m     \u001b[38;5;28mself\u001b[39m\u001b[38;5;241m.\u001b[39margs \u001b[38;5;241m=\u001b[39m [a \u001b[38;5;28;01mif\u001b[39;00m \u001b[38;5;28misinstance\u001b[39m(a, \u001b[38;5;28mbytes\u001b[39m) \u001b[38;5;28;01melse\u001b[39;00m a\u001b[38;5;241m.\u001b[39mencode(\u001b[38;5;28mself\u001b[39m\u001b[38;5;241m.\u001b[39mencoding)\n\u001b[1;32m    301\u001b[0m                  \u001b[38;5;28;01mfor\u001b[39;00m a \u001b[38;5;129;01min\u001b[39;00m \u001b[38;5;28mself\u001b[39m\u001b[38;5;241m.\u001b[39margs]\n\u001b[0;32m--> 303\u001b[0m \u001b[38;5;28mself\u001b[39m\u001b[38;5;241m.\u001b[39mptyproc \u001b[38;5;241m=\u001b[39m \u001b[38;5;28;43mself\u001b[39;49m\u001b[38;5;241;43m.\u001b[39;49m\u001b[43m_spawnpty\u001b[49m\u001b[43m(\u001b[49m\u001b[38;5;28;43mself\u001b[39;49m\u001b[38;5;241;43m.\u001b[39;49m\u001b[43margs\u001b[49m\u001b[43m,\u001b[49m\u001b[43m \u001b[49m\u001b[43menv\u001b[49m\u001b[38;5;241;43m=\u001b[39;49m\u001b[38;5;28;43mself\u001b[39;49m\u001b[38;5;241;43m.\u001b[39;49m\u001b[43menv\u001b[49m\u001b[43m,\u001b[49m\n\u001b[1;32m    304\u001b[0m \u001b[43m                             \u001b[49m\u001b[43mcwd\u001b[49m\u001b[38;5;241;43m=\u001b[39;49m\u001b[38;5;28;43mself\u001b[39;49m\u001b[38;5;241;43m.\u001b[39;49m\u001b[43mcwd\u001b[49m\u001b[43m,\u001b[49m\u001b[43m \u001b[49m\u001b[38;5;241;43m*\u001b[39;49m\u001b[38;5;241;43m*\u001b[39;49m\u001b[43mkwargs\u001b[49m\u001b[43m)\u001b[49m\n\u001b[1;32m    306\u001b[0m \u001b[38;5;28mself\u001b[39m\u001b[38;5;241m.\u001b[39mpid \u001b[38;5;241m=\u001b[39m \u001b[38;5;28mself\u001b[39m\u001b[38;5;241m.\u001b[39mptyproc\u001b[38;5;241m.\u001b[39mpid\n\u001b[1;32m    307\u001b[0m \u001b[38;5;28mself\u001b[39m\u001b[38;5;241m.\u001b[39mchild_fd \u001b[38;5;241m=\u001b[39m \u001b[38;5;28mself\u001b[39m\u001b[38;5;241m.\u001b[39mptyproc\u001b[38;5;241m.\u001b[39mfd\n",
      "File \u001b[0;32m~/.virtualenvs/mlops_zoomcamp_homework-Pekz4x7C/lib/python3.9/site-packages/pexpect/pty_spawn.py:315\u001b[0m, in \u001b[0;36mspawn._spawnpty\u001b[0;34m(self, args, **kwargs)\u001b[0m\n\u001b[1;32m    313\u001b[0m \u001b[38;5;28;01mdef\u001b[39;00m \u001b[38;5;21m_spawnpty\u001b[39m(\u001b[38;5;28mself\u001b[39m, args, \u001b[38;5;241m*\u001b[39m\u001b[38;5;241m*\u001b[39mkwargs):\n\u001b[1;32m    314\u001b[0m     \u001b[38;5;124;03m'''Spawn a pty and return an instance of PtyProcess.'''\u001b[39;00m\n\u001b[0;32m--> 315\u001b[0m     \u001b[38;5;28;01mreturn\u001b[39;00m \u001b[43mptyprocess\u001b[49m\u001b[38;5;241;43m.\u001b[39;49m\u001b[43mPtyProcess\u001b[49m\u001b[38;5;241;43m.\u001b[39;49m\u001b[43mspawn\u001b[49m\u001b[43m(\u001b[49m\u001b[43margs\u001b[49m\u001b[43m,\u001b[49m\u001b[43m \u001b[49m\u001b[38;5;241;43m*\u001b[39;49m\u001b[38;5;241;43m*\u001b[39;49m\u001b[43mkwargs\u001b[49m\u001b[43m)\u001b[49m\n",
      "File \u001b[0;32m~/.virtualenvs/mlops_zoomcamp_homework-Pekz4x7C/lib/python3.9/site-packages/ptyprocess/ptyprocess.py:230\u001b[0m, in \u001b[0;36mPtyProcess.spawn\u001b[0;34m(cls, argv, cwd, env, echo, preexec_fn, dimensions, pass_fds)\u001b[0m\n\u001b[1;32m    227\u001b[0m exec_err_pipe_read, exec_err_pipe_write \u001b[38;5;241m=\u001b[39m os\u001b[38;5;241m.\u001b[39mpipe()\n\u001b[1;32m    229\u001b[0m \u001b[38;5;28;01mif\u001b[39;00m use_native_pty_fork:\n\u001b[0;32m--> 230\u001b[0m     pid, fd \u001b[38;5;241m=\u001b[39m \u001b[43mpty\u001b[49m\u001b[38;5;241;43m.\u001b[39;49m\u001b[43mfork\u001b[49m\u001b[43m(\u001b[49m\u001b[43m)\u001b[49m\n\u001b[1;32m    231\u001b[0m \u001b[38;5;28;01melse\u001b[39;00m:\n\u001b[1;32m    232\u001b[0m     \u001b[38;5;66;03m# Use internal fork_pty, for Solaris\u001b[39;00m\n\u001b[1;32m    233\u001b[0m     pid, fd \u001b[38;5;241m=\u001b[39m _fork_pty\u001b[38;5;241m.\u001b[39mfork_pty()\n",
      "File \u001b[0;32m~/anaconda3/lib/python3.9/pty.py:98\u001b[0m, in \u001b[0;36mfork\u001b[0;34m()\u001b[0m\n\u001b[1;32m     95\u001b[0m     \u001b[38;5;28;01mreturn\u001b[39;00m pid, fd\n\u001b[1;32m     97\u001b[0m master_fd, slave_fd \u001b[38;5;241m=\u001b[39m openpty()\n\u001b[0;32m---> 98\u001b[0m pid \u001b[38;5;241m=\u001b[39m \u001b[43mos\u001b[49m\u001b[38;5;241;43m.\u001b[39;49m\u001b[43mfork\u001b[49m\u001b[43m(\u001b[49m\u001b[43m)\u001b[49m\n\u001b[1;32m     99\u001b[0m \u001b[38;5;28;01mif\u001b[39;00m pid \u001b[38;5;241m==\u001b[39m CHILD:\n\u001b[1;32m    100\u001b[0m     \u001b[38;5;66;03m# Establish a new session.\u001b[39;00m\n\u001b[1;32m    101\u001b[0m     os\u001b[38;5;241m.\u001b[39msetsid()\n",
      "\u001b[0;31mOSError\u001b[0m: [Errno 12] Cannot allocate memory"
     ]
    }
   ],
   "source": [
    "!curl https://www.kaggle.com/datasets/ihelon/lego-minifigures-classification/download?datasetVersionNumber=30 lego_data.zip\n",
    "!unzip lego_data.zip data_path\n",
    "!rm lego_data.zip"
   ]
  },
  {
   "cell_type": "code",
   "execution_count": null,
   "id": "4bba487f",
   "metadata": {},
   "outputs": [],
   "source": [
    "# check if data present\n",
    "!ls data_path"
   ]
  },
  {
   "cell_type": "markdown",
   "id": "6c7c0d14",
   "metadata": {},
   "source": [
    "# test tracking with model training"
   ]
  },
  {
   "cell_type": "code",
   "execution_count": 3,
   "id": "26d55a64",
   "metadata": {},
   "outputs": [],
   "source": [
    "import pandas as pd\n",
    "import numpy as np\n",
    "import torch\n",
    "from fastai.vision.all import *\n",
    "import random\n",
    "from torchvision.models import resnet50, ResNet50_Weights"
   ]
  },
  {
   "cell_type": "code",
   "execution_count": 4,
   "id": "2ee0dfe1",
   "metadata": {},
   "outputs": [],
   "source": [
    "def seed_everything(seed=0):\n",
    "    \"\"\" ensure reproducability by defining random seed \"\"\"\n",
    "    random.seed(seed)\n",
    "    os.environ['PYTHONHASHSEED'] = str(seed)\n",
    "    np.random.seed(seed)\n",
    "    torch.manual_seed(seed)\n",
    "    torch.cuda.manual_seed(seed)\n",
    "    torch.backends.cudnn.deterministic = True\n",
    "\n",
    "seed_everything()"
   ]
  },
  {
   "cell_type": "code",
   "execution_count": 5,
   "id": "1aba06ff",
   "metadata": {},
   "outputs": [],
   "source": [
    "# TODO replace with aws s3?\n",
    "os.environ['TORCH_HOME'] = 'models\\\\resnet' #setting the environment variable\n",
    "path = os.path.join(os.getcwd(), 'data')  # path to downloaded dataset"
   ]
  },
  {
   "cell_type": "code",
   "execution_count": 6,
   "id": "782f65b3",
   "metadata": {},
   "outputs": [],
   "source": [
    "def preprocess_data(df, metadata):\n",
    "    \"\"\" add label column and change path to fname column\"\"\"\n",
    "    df_lego = pd.merge(df, metadata['minifigure_name'], on='class_id')\n",
    "    df_lego['labels'] = df_lego['minifigure_name'].apply(lambda x: x.lower())\n",
    "    df_lego['fname'] = df_lego['path']\n",
    "    return df_lego\n",
    "    \n",
    "def data_preprocess_handler(path):\n",
    "    df = pd.read_csv(os.path.join(path, 'index.csv'), index_col=1)\n",
    "    lego_metadata = pd.read_csv(os.path.join(path, 'metadata.csv'), index_col=0)\n",
    "    df_lego = preprocess_data(df, lego_metadata)\n",
    "    data = ImageDataLoaders.from_df(df_lego, path, valid_pct=0.10,\n",
    "                                   item_tfms=Resize(412),\n",
    "                                   bs=10, num_workers=0, label_col=\"labels\")\n",
    "    return data"
   ]
  },
  {
   "cell_type": "code",
   "execution_count": 10,
   "id": "4380ad96",
   "metadata": {},
   "outputs": [],
   "source": [
    "df = pd.read_csv(os.path.join(\"/home/ubuntu/mlops_zoomcamp_homework/06_project/data\", 'index.csv'), index_col=1)\n",
    "lego_metadata = pd.read_csv(os.path.join(\"/home/ubuntu/mlops_zoomcamp_homework/06_project/data\", 'metadata.csv'), index_col=0)\n",
    "df_lego = preprocess_data(df, lego_metadata)"
   ]
  },
  {
   "cell_type": "code",
   "execution_count": 11,
   "id": "cb83f9f0",
   "metadata": {},
   "outputs": [
    {
     "data": {
      "text/plain": [
       "['path', 'minifigure_name', 'labels', 'fname']"
      ]
     },
     "execution_count": 11,
     "metadata": {},
     "output_type": "execute_result"
    }
   ],
   "source": [
    "df_lego.columns.tolist()"
   ]
  },
  {
   "cell_type": "code",
   "execution_count": 27,
   "id": "32cad0f3",
   "metadata": {},
   "outputs": [
    {
     "name": "stderr",
     "output_type": "stream",
     "text": [
      "2022/08/29 18:45:26 INFO mlflow.tracking.fluent: Experiment with name 'project_resnet50_first' does not exist. Creating a new experiment.\n",
      "/home/xydo/.virtualenvs/mlops_zoomcamp_homework-Pekz4x7C/lib/python3.9/site-packages/torchvision/models/_utils.py:208: UserWarning: The parameter 'pretrained' is deprecated since 0.13 and will be removed in 0.15, please use 'weights' instead.\n",
      "  warnings.warn(\n",
      "/home/xydo/.virtualenvs/mlops_zoomcamp_homework-Pekz4x7C/lib/python3.9/site-packages/torchvision/models/_utils.py:223: UserWarning: Arguments other than a weight enum or `None` for 'weights' are deprecated since 0.13 and will be removed in 0.15. The current behavior is equivalent to passing `weights=ResNet50_Weights.IMAGENET1K_V1`. You can also use `weights=ResNet50_Weights.DEFAULT` to get the most up-to-date weights.\n",
      "  warnings.warn(msg)\n"
     ]
    },
    {
     "data": {
      "text/html": [
       "\n",
       "<style>\n",
       "    /* Turns off some styling */\n",
       "    progress {\n",
       "        /* gets rid of default border in Firefox and Opera. */\n",
       "        border: none;\n",
       "        /* Needs to be in here for Safari polyfill so background images work as expected. */\n",
       "        background-size: auto;\n",
       "    }\n",
       "    progress:not([value]), progress:not([value])::-webkit-progress-bar {\n",
       "        background: repeating-linear-gradient(45deg, #7e7e7e, #7e7e7e 10px, #5c5c5c 10px, #5c5c5c 20px);\n",
       "    }\n",
       "    .progress-bar-interrupted, .progress-bar-interrupted::-webkit-progress-bar {\n",
       "        background: #F44336;\n",
       "    }\n",
       "</style>\n"
      ],
      "text/plain": [
       "<IPython.core.display.HTML object>"
      ]
     },
     "metadata": {},
     "output_type": "display_data"
    },
    {
     "data": {
      "text/html": [
       "<table border=\"1\" class=\"dataframe\">\n",
       "  <thead>\n",
       "    <tr style=\"text-align: left;\">\n",
       "      <th>epoch</th>\n",
       "      <th>train_loss</th>\n",
       "      <th>valid_loss</th>\n",
       "      <th>error_rate</th>\n",
       "      <th>accuracy</th>\n",
       "      <th>time</th>\n",
       "    </tr>\n",
       "  </thead>\n",
       "  <tbody>\n",
       "    <tr>\n",
       "      <td>0</td>\n",
       "      <td>3.770149</td>\n",
       "      <td>2.111250</td>\n",
       "      <td>0.567568</td>\n",
       "      <td>0.432432</td>\n",
       "      <td>04:47</td>\n",
       "    </tr>\n",
       "    <tr>\n",
       "      <td>1</td>\n",
       "      <td>2.046118</td>\n",
       "      <td>1.430303</td>\n",
       "      <td>0.486486</td>\n",
       "      <td>0.513514</td>\n",
       "      <td>05:01</td>\n",
       "    </tr>\n",
       "    <tr>\n",
       "      <td>2</td>\n",
       "      <td>1.168672</td>\n",
       "      <td>1.177586</td>\n",
       "      <td>0.351351</td>\n",
       "      <td>0.648649</td>\n",
       "      <td>08:37</td>\n",
       "    </tr>\n",
       "    <tr>\n",
       "      <td>3</td>\n",
       "      <td>0.758115</td>\n",
       "      <td>1.312335</td>\n",
       "      <td>0.432432</td>\n",
       "      <td>0.567568</td>\n",
       "      <td>04:59</td>\n",
       "    </tr>\n",
       "    <tr>\n",
       "      <td>4</td>\n",
       "      <td>0.584969</td>\n",
       "      <td>1.865044</td>\n",
       "      <td>0.513514</td>\n",
       "      <td>0.486486</td>\n",
       "      <td>06:13</td>\n",
       "    </tr>\n",
       "  </tbody>\n",
       "</table>"
      ],
      "text/plain": [
       "<IPython.core.display.HTML object>"
      ]
     },
     "metadata": {},
     "output_type": "display_data"
    },
    {
     "name": "stdout",
     "output_type": "stream",
     "text": [
      "Better model found at epoch 0 with valid_loss value: 2.111250162124634.\n"
     ]
    },
    {
     "data": {
      "image/png": "[encoded data removed]",
      "text/plain": [
       "<Figure size 600x400 with 1 Axes>"
      ]
     },
     "metadata": {},
     "output_type": "display_data"
    },
    {
     "name": "stdout",
     "output_type": "stream",
     "text": [
      "Better model found at epoch 1 with valid_loss value: 1.4303032159805298.\n",
      "Better model found at epoch 2 with valid_loss value: 1.1775864362716675.\n",
      "Epoch 3: reducing lr to 0.00098495277095499\n",
      "Epoch 4: reducing lr to 0.0013060028959062395\n",
      "No improvement since epoch 2: early stopping\n"
     ]
    },
    {
     "name": "stderr",
     "output_type": "stream",
     "text": [
      "2022/08/29 19:15:17 WARNING mlflow.utils.environment: Encountered an unexpected error while inferring pip requirements (model URI: /tmp/tmp72idtu6k/model, flavor: fastai), fall back to return ['fastai==2.7.9']. Set logging level to DEBUG to see the full traceback.\n"
     ]
    }
   ],
   "source": [
    "mlflow.set_experiment(\"project_resnet50_first\")\n",
    "\n",
    "\n",
    "mlflow.fastai.autolog()\n",
    "    \n",
    "with mlflow.start_run():\n",
    "    data = data_preprocess_handler(path)\n",
    "    \n",
    "    params = {\"lr1\": 1e-3, \"lr2\": 1e-1, \"random_seed\": 0}\n",
    "    mlflow.log_params(params)\n",
    "    \n",
    "    resnet = resnet50(weights=ResNet50_Weights.DEFAULT)\n",
    "    learn = vision_learner(data, resnet50, metrics=[error_rate, accuracy], model_dir = Path(os.path.join(os.getcwd(),\n",
    "                                                                                                   \"models\",\n",
    "                                                                                                      \"resnet\")),\n",
    "                       path =Path(\"\"\n",
    "                                                                                                                    \".\"))\n",
    "    learn.fit_one_cycle(100, slice(params[\"lr1\"],params[\"lr2\"]),cbs=[EarlyStoppingCallback(patience=2),\n",
    "                                                                    ShowGraphCallback(),\n",
    "                                                SaveModelCallback(fname='model_best'),ReduceLROnPlateau()])"
   ]
  },
  {
   "cell_type": "code",
   "execution_count": null,
   "id": "da43e57a",
   "metadata": {},
   "outputs": [],
   "source": [
    "cinterp = ClassificationInterpretation(learn, data)\n",
    "cinterp = confusion_matrix()"
   ]
  },
  {
   "cell_type": "code",
   "execution_count": 18,
   "id": "0f27a4ea",
   "metadata": {},
   "outputs": [
    {
     "data": {
      "text/plain": [
       "[<Experiment: artifact_location='s3://mlflow-artifacts-remote-xydo/0', experiment_id='0', lifecycle_stage='active', name='Default', tags={}>,\n",
       " <Experiment: artifact_location='s3://mlflow-artifacts-remote-xydo/1', experiment_id='1', lifecycle_stage='active', name='my-experiment-1', tags={}>]"
      ]
     },
     "execution_count": 18,
     "metadata": {},
     "output_type": "execute_result"
    }
   ],
   "source": [
    "mlflow.list_experiments()"
   ]
  },
  {
   "cell_type": "markdown",
   "id": "dde4514c",
   "metadata": {},
   "source": [
    "# visualize outputs"
   ]
  },
  {
   "cell_type": "code",
   "execution_count": null,
   "id": "f4c94bc1",
   "metadata": {},
   "outputs": [],
   "source": [
    "interp = interpretation.from_learner(learn)\n",
    "# plot 5 best outputs\n",
    "interp.plot_top_losses(5)\n"
   ]
  },
  {
   "cell_type": "code",
   "execution_count": null,
   "id": "1197720a",
   "metadata": {},
   "outputs": [],
   "source": [
    "# plot 5 worst outputs\n",
    "interp.plot_top_losses(5, largest=False)"
   ]
  },
  {
   "cell_type": "markdown",
   "id": "079cf3d9",
   "metadata": {},
   "source": [
    "# use tracking server"
   ]
  },
  {
   "cell_type": "code",
   "execution_count": 19,
   "id": "9235d46b",
   "metadata": {},
   "outputs": [],
   "source": [
    "from mlflow.tracking import MlflowClient\n",
    "\n",
    "\n",
    "client = MlflowClient(f\"http://{TRACKING_SERVER_HOST}:5000\")"
   ]
  },
  {
   "cell_type": "code",
   "execution_count": 22,
   "id": "0cfbc740",
   "metadata": {},
   "outputs": [
    {
     "data": {
      "text/plain": [
       "[<RegisteredModel: creation_timestamp=1661784690407, description='', last_updated_timestamp=1661784761990, latest_versions=[<ModelVersion: creation_timestamp=1661784690553, current_stage='Staging', description='', last_updated_timestamp=1661784761990, name='iris-classifier', run_id='bd5bc854d6d64534b820a7d13572457e', run_link='', source='s3://mlflow-artifacts-remote-xydo/1/bd5bc854d6d64534b820a7d13572457e/artifacts/models', status='READY', status_message='', tags={}, user_id='', version='1'>], name='iris-classifier', tags={}>]"
      ]
     },
     "execution_count": 22,
     "metadata": {},
     "output_type": "execute_result"
    }
   ],
   "source": [
    "client.list_registered_models()"
   ]
  },
  {
   "cell_type": "code",
   "execution_count": 21,
   "id": "0e4131e5",
   "metadata": {},
   "outputs": [
    {
     "name": "stderr",
     "output_type": "stream",
     "text": [
      "Successfully registered model 'iris-classifier'.\n",
      "2022/08/29 16:51:30 INFO mlflow.tracking._model_registry.client: Waiting up to 300 seconds for model version to finish creation.                     Model name: iris-classifier, version 1\n",
      "Created version '1' of model 'iris-classifier'.\n"
     ]
    },
    {
     "data": {
      "text/plain": [
       "<ModelVersion: creation_timestamp=1661784690553, current_stage='None', description='', last_updated_timestamp=1661784690553, name='iris-classifier', run_id='bd5bc854d6d64534b820a7d13572457e', run_link='', source='s3://mlflow-artifacts-remote-xydo/1/bd5bc854d6d64534b820a7d13572457e/artifacts/models', status='READY', status_message='', tags={}, user_id='', version='1'>"
      ]
     },
     "execution_count": 21,
     "metadata": {},
     "output_type": "execute_result"
    }
   ],
   "source": [
    "run_id = client.list_run_infos(experiment_id='1')[0].run_id\n",
    "mlflow.register_model(\n",
    "    model_uri=f\"runs:/{run_id}/models\",\n",
    "    name='iris-classifier'\n",
    ")"
   ]
  },
  {
   "cell_type": "code",
   "execution_count": null,
   "id": "cb9eaea0",
   "metadata": {},
   "outputs": [],
   "source": []
  }
 ],
 "metadata": {
  "kernelspec": {
   "display_name": "Python 3 (ipykernel)",
   "language": "python",
   "name": "python3"
  },
  "language_info": {
   "codemirror_mode": {
    "name": "ipython",
    "version": 3
   },
   "file_extension": ".py",
   "mimetype": "text/x-python",
   "name": "python",
   "nbconvert_exporter": "python",
   "pygments_lexer": "ipython3",
   "version": "3.9.13"
  },
  "vscode": {
   "interpreter": {
    "hash": "627202be88947bc64a02b9c889b830570ab068372ebd24c53d6cc474a1c90088"
   }
  }
 },
 "nbformat": 4,
 "nbformat_minor": 5
}
