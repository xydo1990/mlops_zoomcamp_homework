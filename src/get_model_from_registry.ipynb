{
 "cells": [
  {
   "cell_type": "markdown",
   "id": "ed00b95e",
   "metadata": {},
   "source": [
    "# get model from mlflow registry"
   ]
  },
  {
   "cell_type": "code",
   "execution_count": 5,
   "id": "b182bff5",
   "metadata": {},
   "outputs": [
    {
     "name": "stdout",
     "output_type": "stream",
     "text": [
      "/home/xydo/mlops_project/06_project/src/../model_test\n"
     ]
    },
    {
     "name": "stderr",
     "output_type": "stream",
     "text": [
      "/home/xydo/.virtualenvs/mlops_project-b2HfG8B0/lib/python3.9/site-packages/tqdm/auto.py:22: TqdmWarning: IProgress not found. Please update jupyter and ipywidgets. See https://ipywidgets.readthedocs.io/en/stable/user_install.html\n",
      "  from .autonotebook import tqdm as notebook_tqdm\n"
     ]
    }
   ],
   "source": [
    "import mlflow\n",
    "import os\n",
    "\n",
    "run_id = \"5c3eca95a08f47a48066177e853ede80\"\n",
    "run_str = f\"runs:/{run_id}/model\"\n",
    "tracking_server_ip = \"localhost\"\n",
    "tracking_server_port = \"5000\"\n",
    "model_storage_path = os.path.join(os.getcwd(), \"/model\")\n",
    "print(model_storage_path)\n",
    "os.makedirs(model_storage_path)\n",
    "\n",
    "mlflow.set_tracking_uri(f\"http://{tracking_server_ip}:{tracking_server_port}\")\n",
    "learn = mlflow.pyfunc.load_model(run_str, dst_path=model_storage_path)"
   ]
  },
  {
   "cell_type": "code",
   "execution_count": null,
   "id": "5629df94",
   "metadata": {},
   "outputs": [],
   "source": []
  }
 ],
 "metadata": {
  "kernelspec": {
   "display_name": "Python 3.10.4 64-bit",
   "language": "python",
   "name": "python3"
  },
  "language_info": {
   "codemirror_mode": {
    "name": "ipython",
    "version": 3
   },
   "file_extension": ".py",
   "mimetype": "text/x-python",
   "name": "python",
   "nbconvert_exporter": "python",
   "pygments_lexer": "ipython3",
   "version": "3.6.9"
  },
  "vscode": {
   "interpreter": {
    "hash": "31f2aee4e71d21fbe5cf8b01ff0e069b9275f58929596ceb00d14d90e3e16cd6"
   }
  }
 },
 "nbformat": 4,
 "nbformat_minor": 5
}
