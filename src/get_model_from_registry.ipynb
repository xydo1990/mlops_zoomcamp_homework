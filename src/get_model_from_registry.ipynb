{
 "cells": [
  {
   "cell_type": "markdown",
   "id": "ed00b95e",
   "metadata": {},
   "source": [
    "# get model from mlflow registry"
   ]
  },
  {
   "cell_type": "markdown",
   "id": "25cd00a1",
   "metadata": {},
   "source": [
    "based on https://github.com/DataTalksClub/mlops-zoomcamp/blob/main/02-experiment-tracking/model-registry.ipynb and adapted to this project"
   ]
  },
  {
   "cell_type": "markdown",
   "id": "40592c78",
   "metadata": {},
   "source": [
    "## prepare mlflow connection"
   ]
  },
  {
   "cell_type": "code",
   "execution_count": 6,
   "id": "b182bff5",
   "metadata": {},
   "outputs": [
    {
     "name": "stdout",
     "output_type": "stream",
     "text": [
      "storing model to path /home/ubuntu/mlops_zoomcamp_homework/model\n"
     ]
    }
   ],
   "source": [
    "import mlflow\n",
    "import os\n",
    "from dotenv import load_dotenv\n",
    "from mlflow.tracking import MlflowClient\n",
    "\n",
    "load_dotenv()\n",
    "\n",
    "# Note please adapt this to your setup\n",
    "PATH_TO_THIS_REPO = \"/home/ubuntu/mlops_zoomcamp_homework/\"\n",
    "\n",
    "tracking_server_ip = os.getenv(\"TRACKING_SERVER_HOST\", \"localhost\")\n",
    "tracking_server_port = os.getenv(\"TRACKING_SERVER_HOST_PORT\", \"5000\")\n",
    "MLFLOW_TRACKING_URI = f\"http://{tracking_server_ip}:{tracking_server_port}\"\n",
    "model_storage_path = os.path.join(PATH_TO_THIS_REPO, \"model\")\n",
    "print(\"storing model to path\", model_storage_path)\n",
    "\n",
    "if not os.path.exists(model_storage_path):\n",
    "    os.makedirs(model_storage_path)\n",
    "\n",
    "client = MlflowClient(tracking_uri=MLFLOW_TRACKING_URI)"
   ]
  },
  {
   "cell_type": "markdown",
   "id": "a015b560",
   "metadata": {},
   "source": [
    "## get experiments"
   ]
  },
  {
   "cell_type": "code",
   "execution_count": 7,
   "id": "5629df94",
   "metadata": {},
   "outputs": [
    {
     "name": "stderr",
     "output_type": "stream",
     "text": [
      "/tmp/ipykernel_3005/601565429.py:1: FutureWarning: ``mlflow.tracking.client.MlflowClient.list_experiments`` is deprecated. This method will be removed in a future release. Use ``search_experiments()`` instead.\n",
      "  client.list_experiments()\n"
     ]
    },
    {
     "data": {
      "text/plain": [
       "[<Experiment: artifact_location='s3://mlflow-artifacts-remote-xydo/0', creation_time=None, experiment_id='0', last_update_time=None, lifecycle_stage='active', name='Default', tags={}>,\n",
       " <Experiment: artifact_location='s3://mlflow-artifacts-remote-xydo/1', creation_time=None, experiment_id='1', last_update_time=None, lifecycle_stage='active', name='my-experiment-1', tags={}>,\n",
       " <Experiment: artifact_location='s3://mlflow-artifacts-remote-xydo/2', creation_time=None, experiment_id='2', last_update_time=None, lifecycle_stage='active', name='project_resnet50_first', tags={}>,\n",
       " <Experiment: artifact_location='s3://mlflow-artifacts-remote-xydo/3', creation_time=None, experiment_id='3', last_update_time=None, lifecycle_stage='active', name='project_resnet50_parallel', tags={}>,\n",
       " <Experiment: artifact_location='s3://mlflow-artifacts-remote-xydo/4', creation_time=None, experiment_id='4', last_update_time=None, lifecycle_stage='active', name='project_resnet50_power', tags={}>,\n",
       " <Experiment: artifact_location='s3://mlflow-artifacts-remote-xydo/5', creation_time=None, experiment_id='5', last_update_time=None, lifecycle_stage='active', name='project_resnet50_v2', tags={}>,\n",
       " <Experiment: artifact_location='s3://mlflow-artifacts-remote-xydo/6', creation_time=None, experiment_id='6', last_update_time=None, lifecycle_stage='active', name='project_resnet50_v1', tags={}>,\n",
       " <Experiment: artifact_location='s3://mlflow-artifacts-remote-xydo/7', creation_time=None, experiment_id='7', last_update_time=None, lifecycle_stage='active', name='project_resnet50_timm', tags={}>]"
      ]
     },
     "execution_count": 7,
     "metadata": {},
     "output_type": "execute_result"
    }
   ],
   "source": [
    "client.list_experiments()\n",
    "\n",
    "#run_str = f\"runs:/{run_id}/model\"\n",
    "#learn = mlflow.pyfunc.load_model(run_str, dst_path=model_storage_path)"
   ]
  },
  {
   "cell_type": "code",
   "execution_count": 13,
   "id": "09a9c96c",
   "metadata": {},
   "outputs": [],
   "source": [
    "# select an experiment run ID\n",
    "# NOTE: adapt to your experiment, get your wanted one. In my case 'project_resnet50_v1'\n",
    "EXPERIMENT_ID = \"6\"  # for experiment name project_resnet50_v1"
   ]
  },
  {
   "cell_type": "markdown",
   "id": "cabbe2a2",
   "metadata": {},
   "source": [
    "## get runs from experiment"
   ]
  },
  {
   "cell_type": "code",
   "execution_count": 15,
   "id": "e2141f8a",
   "metadata": {},
   "outputs": [
    {
     "name": "stdout",
     "output_type": "stream",
     "text": [
      "run id: e1c3003940e14f3f872dea8521bb1cd6, accuracy: 0.7838\n",
      "run id: 5e8554e66b654f54ae52a7aeb9ff8b0d, accuracy: 0.5135\n"
     ]
    },
    {
     "data": {
      "text/plain": [
       "'e1c3003940e14f3f872dea8521bb1cd6'"
      ]
     },
     "execution_count": 15,
     "metadata": {},
     "output_type": "execute_result"
    }
   ],
   "source": [
    "from mlflow.entities import ViewType\n",
    "\n",
    "runs = client.search_runs(\n",
    "    experiment_ids=EXPERIMENT_ID,\n",
    "    filter_string=\"metrics.accuracy > 0.5\",\n",
    "    run_view_type=ViewType.ACTIVE_ONLY,\n",
    "    max_results=5,\n",
    "    order_by=[\"metrics.accuracy DESC\"]\n",
    ")\n",
    "\n",
    "for i, run in enumerate(runs):\n",
    "    print(f\"run id: {run.info.run_id}, accuracy: {run.data.metrics['accuracy']:.4f}\")\n",
    "    if i == 0:\n",
    "        best_run_id = run.info.run_id\n",
    "\n",
    "best_run_id"
   ]
  },
  {
   "cell_type": "code",
   "execution_count": null,
   "id": "ec95630f",
   "metadata": {},
   "outputs": [],
   "source": [
    "# NOTE: store run_id of best run in .env file to be used during deployment in format runs:/e1c3003940e14f3f872dea8521bb1cd6/model"
   ]
  },
  {
   "cell_type": "markdown",
   "id": "27b4b990",
   "metadata": {},
   "source": [
    "## register best model in model registry"
   ]
  },
  {
   "cell_type": "code",
   "execution_count": 16,
   "id": "c25c8e52",
   "metadata": {},
   "outputs": [
    {
     "name": "stderr",
     "output_type": "stream",
     "text": [
      "Successfully registered model 'best_resnet50_model'.\n",
      "2022/09/25 07:02:14 INFO mlflow.tracking._model_registry.client: Waiting up to 300 seconds for model version to finish creation.                     Model name: best_resnet50_model, version 1\n",
      "Created version '1' of model 'best_resnet50_model'.\n"
     ]
    },
    {
     "data": {
      "text/plain": [
       "<ModelVersion: creation_timestamp=1664089334596, current_stage='None', description='', last_updated_timestamp=1664089334596, name='best_resnet50_model', run_id='e1c3003940e14f3f872dea8521bb1cd6', run_link='', source='s3://mlflow-artifacts-remote-xydo/6/e1c3003940e14f3f872dea8521bb1cd6/artifacts/model', status='READY', status_message='', tags={}, user_id='', version='1'>"
      ]
     },
     "execution_count": 16,
     "metadata": {},
     "output_type": "execute_result"
    }
   ],
   "source": [
    "import mlflow\n",
    "\n",
    "mlflow.set_tracking_uri(MLFLOW_TRACKING_URI)\n",
    "model_uri = f\"runs:/{best_run_id}/model\"\n",
    "model_name = \"best_resnet50_model\"\n",
    "mlflow.register_model(model_uri=model_uri, name=\"best_resnet50_model\")\n"
   ]
  },
  {
   "cell_type": "code",
   "execution_count": 17,
   "id": "0cd45658",
   "metadata": {},
   "outputs": [
    {
     "name": "stdout",
     "output_type": "stream",
     "text": [
      "version: 1, stage: None\n"
     ]
    }
   ],
   "source": [
    "latest_versions = client.get_latest_versions(name=model_name)\n",
    "\n",
    "for version in latest_versions:\n",
    "    print(f\"version: {version.version}, stage: {version.current_stage}\")"
   ]
  },
  {
   "cell_type": "code",
   "execution_count": 20,
   "id": "c4f67727",
   "metadata": {},
   "outputs": [
    {
     "data": {
      "text/plain": [
       "<ModelVersion: creation_timestamp=1664089334596, current_stage='Production', description='', last_updated_timestamp=1664089429007, name='best_resnet50_model', run_id='e1c3003940e14f3f872dea8521bb1cd6', run_link='', source='s3://mlflow-artifacts-remote-xydo/6/e1c3003940e14f3f872dea8521bb1cd6/artifacts/model', status='READY', status_message='', tags={}, user_id='', version='1'>"
      ]
     },
     "execution_count": 20,
     "metadata": {},
     "output_type": "execute_result"
    }
   ],
   "source": [
    "# get latest version of model and mark as in 'Production' stage\n",
    "# NOTE: adapt your model_version regarding to the output of the last cell\n",
    "model_version = 1\n",
    "new_stage = \"Production\"\n",
    "client.transition_model_version_stage(\n",
    "    name=model_name,\n",
    "    version=model_version,\n",
    "    stage=new_stage,\n",
    "    archive_existing_versions=False\n",
    ")"
   ]
  },
  {
   "cell_type": "markdown",
   "id": "a7ccd90a",
   "metadata": {},
   "source": [
    "## TODO compare new model with with current deployed model and move to production stage\n",
    "from here it can be picked up by a CI/CD stage"
   ]
  },
  {
   "cell_type": "markdown",
   "id": "bc405d56",
   "metadata": {},
   "source": [
    "1) get test dataclass\n",
    "2) evaluate both models on it\n",
    "3) if new model from \"Staging\" is better, move it to \"Production\" stage and remove old model from it\n"
   ]
  },
  {
   "cell_type": "code",
   "execution_count": null,
   "id": "fcb83d24",
   "metadata": {},
   "outputs": [],
   "source": [
    "# NOTE: execute these cells only if you already have a model in production and want to replace it\n",
    "# TODO update these cells (from MLOps Zoomcamp) matching this project\n",
    "\n",
    "from sklearn.metrics import mean_squared_error\n",
    "import pandas as pd\n",
    "\n",
    "\n",
    "def read_dataframe(filename):\n",
    "    df = pd.read_csv(filename)\n",
    "\n",
    "    df.lpep_dropoff_datetime = pd.to_datetime(df.lpep_dropoff_datetime)\n",
    "    df.lpep_pickup_datetime = pd.to_datetime(df.lpep_pickup_datetime)\n",
    "\n",
    "    df['duration'] = df.lpep_dropoff_datetime - df.lpep_pickup_datetime\n",
    "    df.duration = df.duration.apply(lambda td: td.total_seconds() / 60)\n",
    "\n",
    "    df = df[(df.duration >= 1) & (df.duration <= 60)]\n",
    "\n",
    "    categorical = ['PULocationID', 'DOLocationID']\n",
    "    df[categorical] = df[categorical].astype(str)\n",
    "    \n",
    "    return df\n",
    "\n",
    "\n",
    "def preprocess(df, dv):\n",
    "    df['PU_DO'] = df['PULocationID'] + '_' + df['DOLocationID']\n",
    "    categorical = ['PU_DO']\n",
    "    numerical = ['trip_distance']\n",
    "    train_dicts = df[categorical + numerical].to_dict(orient='records')\n",
    "    return dv.transform(train_dicts)\n",
    "\n",
    "\n",
    "def test_model(name, stage, X_test, y_test):\n",
    "    model = mlflow.pyfunc.load_model(f\"models:/{name}/{stage}\")\n",
    "    y_pred = model.predict(X_test)\n",
    "    return {\"rmse\": mean_squared_error(y_test, y_pred, squared=False)}"
   ]
  }
 ],
 "metadata": {
  "kernelspec": {
   "display_name": "Python 3.9.13 ('mlops_zoomcamp_homework-RFD6nFZ_')",
   "language": "python",
   "name": "python3"
  },
  "language_info": {
   "codemirror_mode": {
    "name": "ipython",
    "version": 3
   },
   "file_extension": ".py",
   "mimetype": "text/x-python",
   "name": "python",
   "nbconvert_exporter": "python",
   "pygments_lexer": "ipython3",
   "version": "3.9.13"
  },
  "vscode": {
   "interpreter": {
    "hash": "627202be88947bc64a02b9c889b830570ab068372ebd24c53d6cc474a1c90088"
   }
  }
 },
 "nbformat": 4,
 "nbformat_minor": 5
}
