{
 "cells": [
  {
   "cell_type": "markdown",
   "id": "ed00b95e",
   "metadata": {},
   "source": [
    "# get model from mlflow registry"
   ]
  },
  {
   "cell_type": "markdown",
   "id": "25cd00a1",
   "metadata": {},
   "source": [
    "based on https://github.com/DataTalksClub/mlops-zoomcamp/blob/main/02-experiment-tracking/model-registry.ipynb and adapted to this project"
   ]
  },
  {
   "cell_type": "markdown",
   "id": "40592c78",
   "metadata": {},
   "source": [
    "## prepare mlflow connection"
   ]
  },
  {
   "cell_type": "code",
   "execution_count": 1,
   "id": "b182bff5",
   "metadata": {},
   "outputs": [
    {
     "ename": "ModuleNotFoundError",
     "evalue": "No module named 'dotenv'",
     "output_type": "error",
     "traceback": [
      "\u001b[0;31m---------------------------------------------------------------------------\u001b[0m",
      "\u001b[0;31mModuleNotFoundError\u001b[0m                       Traceback (most recent call last)",
      "Cell \u001b[0;32mIn [1], line 3\u001b[0m\n\u001b[1;32m      1\u001b[0m \u001b[38;5;28;01mimport\u001b[39;00m \u001b[38;5;21;01mmlflow\u001b[39;00m\n\u001b[1;32m      2\u001b[0m \u001b[38;5;28;01mimport\u001b[39;00m \u001b[38;5;21;01mos\u001b[39;00m\n\u001b[0;32m----> 3\u001b[0m \u001b[38;5;28;01mfrom\u001b[39;00m \u001b[38;5;21;01mdotenv\u001b[39;00m \u001b[38;5;28;01mimport\u001b[39;00m load_dotenv\n\u001b[1;32m      4\u001b[0m \u001b[38;5;28;01mfrom\u001b[39;00m \u001b[38;5;21;01mmlflow\u001b[39;00m\u001b[38;5;21;01m.\u001b[39;00m\u001b[38;5;21;01mtracking\u001b[39;00m \u001b[38;5;28;01mimport\u001b[39;00m MlflowClient\n\u001b[1;32m      6\u001b[0m load_dotenv()\n",
      "\u001b[0;31mModuleNotFoundError\u001b[0m: No module named 'dotenv'"
     ]
    }
   ],
   "source": [
    "import mlflow\n",
    "import os\n",
    "from dotenv import load_dotenv\n",
    "from mlflow.tracking import MlflowClient\n",
    "\n",
    "load_dotenv()\n",
    "\n",
    "# MLFLOW_TRACKING_URI = \"sqlite:///mlflow.db\"\n",
    "\n",
    "tracking_server_ip = os.getenv(\"TRACKING_SERVER_HOST\", \"localhost\")\n",
    "tracking_server_port = os.getenv(\"TRACKING_SERVER_HOST_PORT\", \"5000\")\n",
    "MLFLOW_TRACKING_URI = f\"http://{tracking_server_ip}:{tracking_server_port}\"\n",
    "model_storage_path = os.path.join(os.getcwd(), \"/model\")\n",
    "print(\"storing model to path\", model_storage_path)\n",
    "os.makedirs(model_storage_path)\n",
    "\n",
    "client = MlflowClient(tracking_uri=MLFLOW_TRACKING_URI)"
   ]
  },
  {
   "cell_type": "markdown",
   "id": "a015b560",
   "metadata": {},
   "source": [
    "## get experiments"
   ]
  },
  {
   "cell_type": "code",
   "execution_count": null,
   "id": "5629df94",
   "metadata": {},
   "outputs": [],
   "source": [
    "client.list_experiments()\n",
    "\n",
    "#run_str = f\"runs:/{run_id}/model\"\n",
    "#learn = mlflow.pyfunc.load_model(run_str, dst_path=model_storage_path)"
   ]
  },
  {
   "cell_type": "code",
   "execution_count": null,
   "id": "09a9c96c",
   "metadata": {},
   "outputs": [],
   "source": [
    "# select an experiment run ID\n",
    "EXPERIMENT_ID = \"project_resnet50_v1\""
   ]
  },
  {
   "cell_type": "markdown",
   "id": "cabbe2a2",
   "metadata": {},
   "source": [
    "## get runs from experiment"
   ]
  },
  {
   "cell_type": "code",
   "execution_count": 2,
   "id": "e2141f8a",
   "metadata": {},
   "outputs": [
    {
     "ename": "NameError",
     "evalue": "name 'client' is not defined",
     "output_type": "error",
     "traceback": [
      "\u001b[0;31m---------------------------------------------------------------------------\u001b[0m",
      "\u001b[0;31mNameError\u001b[0m                                 Traceback (most recent call last)",
      "Cell \u001b[0;32mIn [2], line 3\u001b[0m\n\u001b[1;32m      1\u001b[0m \u001b[38;5;28;01mfrom\u001b[39;00m \u001b[38;5;21;01mmlflow\u001b[39;00m\u001b[38;5;21;01m.\u001b[39;00m\u001b[38;5;21;01mentities\u001b[39;00m \u001b[38;5;28;01mimport\u001b[39;00m ViewType\n\u001b[0;32m----> 3\u001b[0m runs \u001b[38;5;241m=\u001b[39m \u001b[43mclient\u001b[49m\u001b[38;5;241m.\u001b[39msearch_runs(\n\u001b[1;32m      4\u001b[0m     experiment_ids\u001b[38;5;241m=\u001b[39mEXPERIMENT_ID,\n\u001b[1;32m      5\u001b[0m     filter_string\u001b[38;5;241m=\u001b[39m\u001b[38;5;124m\"\u001b[39m\u001b[38;5;124mmetrics.accuracy > 0.05\u001b[39m\u001b[38;5;124m\"\u001b[39m,\n\u001b[1;32m      6\u001b[0m     run_view_type\u001b[38;5;241m=\u001b[39mViewType\u001b[38;5;241m.\u001b[39mACTIVE_ONLY,\n\u001b[1;32m      7\u001b[0m     max_results\u001b[38;5;241m=\u001b[39m\u001b[38;5;241m5\u001b[39m,\n\u001b[1;32m      8\u001b[0m     order_by\u001b[38;5;241m=\u001b[39m[\u001b[38;5;124m\"\u001b[39m\u001b[38;5;124mmetrics.accuracy DSC\u001b[39m\u001b[38;5;124m\"\u001b[39m]\n\u001b[1;32m      9\u001b[0m )\n",
      "\u001b[0;31mNameError\u001b[0m: name 'client' is not defined"
     ]
    }
   ],
   "source": [
    "from mlflow.entities import ViewType\n",
    "\n",
    "runs = client.search_runs(\n",
    "    experiment_ids=EXPERIMENT_ID,\n",
    "    filter_string=\"metrics.accuracy > 0.05\",\n",
    "    run_view_type=ViewType.ACTIVE_ONLY,\n",
    "    max_results=5,\n",
    "    order_by=[\"metrics.accuracy DSC\"]\n",
    ")\n",
    "\n",
    "for i, run in enumerate(runs):\n",
    "    print(f\"run id: {run.info.run_id}, accuracy: {run.data.metrics['accuracy']:.4f}\")\n",
    "    if i == 0:\n",
    "        best_run_id = run.info.run_id\n",
    "\n",
    "best_run_id"
   ]
  },
  {
   "cell_type": "code",
   "execution_count": null,
   "id": "ec95630f",
   "metadata": {},
   "outputs": [],
   "source": [
    "# store run_id of best run in .env file to be used during deployment"
   ]
  },
  {
   "cell_type": "markdown",
   "id": "27b4b990",
   "metadata": {},
   "source": [
    "## register best model in model registry"
   ]
  },
  {
   "cell_type": "code",
   "execution_count": null,
   "id": "c25c8e52",
   "metadata": {},
   "outputs": [],
   "source": [
    "import mlflow\n",
    "\n",
    "mlflow.set_tracking_uri(MLFLOW_TRACKING_URI)\n",
    "model_uri = f\"runs:/{best_run_id}/model\"\n",
    "model_name = \"best_resnet50_model\"\n",
    "mlflow.register_model(model_uri=model_uri, name=\"best_resnet50_model\")\n"
   ]
  },
  {
   "cell_type": "code",
   "execution_count": null,
   "id": "0cd45658",
   "metadata": {},
   "outputs": [],
   "source": [
    "latest_versions = client.get_latest_versions(name=model_name)\n",
    "\n",
    "for version in latest_versions:\n",
    "    print(f\"version: {version.version}, stage: {version.current_stage}\")"
   ]
  },
  {
   "cell_type": "code",
   "execution_count": null,
   "id": "c4f67727",
   "metadata": {},
   "outputs": [],
   "source": [
    "# get latest version of model and mark as in 'staging' stage\n",
    "model_version = 4\n",
    "new_stage = \"Staging\"\n",
    "client.transition_model_version_stage(\n",
    "    name=model_name,\n",
    "    version=model_version,\n",
    "    stage=new_stage,\n",
    "    archive_existing_versions=False\n",
    ")"
   ]
  },
  {
   "cell_type": "markdown",
   "id": "a7ccd90a",
   "metadata": {},
   "source": [
    "## compare new model with with current deployed model and move to production stage\n",
    "from here it can be picked up by a CI/CD stage"
   ]
  },
  {
   "cell_type": "markdown",
   "id": "bc405d56",
   "metadata": {},
   "source": [
    "1) get test dataclass\n",
    "2) evaluate both models on it\n",
    "3) if new model from \"Staging\" is better, move it to \"Production\" stage and remove old model from it\n"
   ]
  },
  {
   "cell_type": "code",
   "execution_count": null,
   "id": "fcb83d24",
   "metadata": {},
   "outputs": [],
   "source": [
    "\n",
    "from sklearn.metrics import mean_squared_error\n",
    "import pandas as pd\n",
    "\n",
    "\n",
    "def read_dataframe(filename):\n",
    "    df = pd.read_csv(filename)\n",
    "\n",
    "    df.lpep_dropoff_datetime = pd.to_datetime(df.lpep_dropoff_datetime)\n",
    "    df.lpep_pickup_datetime = pd.to_datetime(df.lpep_pickup_datetime)\n",
    "\n",
    "    df['duration'] = df.lpep_dropoff_datetime - df.lpep_pickup_datetime\n",
    "    df.duration = df.duration.apply(lambda td: td.total_seconds() / 60)\n",
    "\n",
    "    df = df[(df.duration >= 1) & (df.duration <= 60)]\n",
    "\n",
    "    categorical = ['PULocationID', 'DOLocationID']\n",
    "    df[categorical] = df[categorical].astype(str)\n",
    "    \n",
    "    return df\n",
    "\n",
    "\n",
    "def preprocess(df, dv):\n",
    "    df['PU_DO'] = df['PULocationID'] + '_' + df['DOLocationID']\n",
    "    categorical = ['PU_DO']\n",
    "    numerical = ['trip_distance']\n",
    "    train_dicts = df[categorical + numerical].to_dict(orient='records')\n",
    "    return dv.transform(train_dicts)\n",
    "\n",
    "\n",
    "def test_model(name, stage, X_test, y_test):\n",
    "    model = mlflow.pyfunc.load_model(f\"models:/{name}/{stage}\")\n",
    "    y_pred = model.predict(X_test)\n",
    "    return {\"rmse\": mean_squared_error(y_test, y_pred, squared=False)}"
   ]
  }
 ],
 "metadata": {
  "kernelspec": {
   "display_name": "mlops_project",
   "language": "python",
   "name": "mlops_project"
  },
  "language_info": {
   "codemirror_mode": {
    "name": "ipython",
    "version": 3
   },
   "file_extension": ".py",
   "mimetype": "text/x-python",
   "name": "python",
   "nbconvert_exporter": "python",
   "pygments_lexer": "ipython3",
   "version": "3.9.7"
  },
  "vscode": {
   "interpreter": {
    "hash": "31f2aee4e71d21fbe5cf8b01ff0e069b9275f58929596ceb00d14d90e3e16cd6"
   }
  }
 },
 "nbformat": 4,
 "nbformat_minor": 5
}
